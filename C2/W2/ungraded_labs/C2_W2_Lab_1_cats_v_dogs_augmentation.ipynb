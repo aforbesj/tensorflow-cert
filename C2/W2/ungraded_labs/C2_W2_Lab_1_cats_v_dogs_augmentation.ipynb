{
 "cells": [
  {
   "cell_type": "markdown",
   "metadata": {},
   "source": [
    "<a href=\"https://colab.research.google.com/github/https-deeplearning-ai/tensorflow-1-public/blob/master/C2/W2/ungraded_labs/C2_W2_Lab_1_cats_v_dogs_augmentation.ipynb\" target=\"_parent\"><img src=\"https://colab.research.google.com/assets/colab-badge.svg\" alt=\"Open In Colab\"/></a>"
   ]
  },
  {
   "cell_type": "markdown",
   "metadata": {
    "id": "gGxCD4mGHHjG"
   },
   "source": [
    "# Ungraded Lab: Data Augmentation\n",
    "\n",
    "In the previous lessons, you saw that having a high training accuracy does not automatically mean having a good predictive model. It can still perform poorly on new data because it has overfit to the training set. In this lab, you will see how to avoid that using _data augmentation_. This increases the amount of training data by modifying the existing training data's properties. For example, in image data, you can apply different preprocessing techniques such as rotate, flip, shear, or zoom on your existing images so you can simulate other data that the model should also learn from. This way, the model would see more variety in the images during training so it will infer better on new, previously unseen data.\n",
    "\n",
    "Let's see how you can do this in the following sections."
   ]
  },
  {
   "cell_type": "markdown",
   "metadata": {
    "id": "kJJqX4DxcQs8"
   },
   "source": [
    "## Baseline Performance\n",
    "\n",
    "You will start with a model that's very effective at learning `Cats vs Dogs` without data augmentation. It's similar to the previous models that you have used. Note that there are four convolutional layers with 32, 64, 128 and 128 convolutions respectively. The code is basically the same from the previous lab so we won't go over the details step by step since you've already seen it before.\n",
    "\n",
    "You will train only for 20 epochs to save time but feel free to increase this if you want."
   ]
  },
  {
   "cell_type": "code",
   "execution_count": 1,
   "metadata": {
    "id": "zJZIF29-dIRv"
   },
   "outputs": [
    {
     "name": "stdout",
     "output_type": "stream",
     "text": [
      "--2023-04-08 18:50:15--  https://storage.googleapis.com/tensorflow-1-public/course2/cats_and_dogs_filtered.zip\n",
      "Resolving storage.googleapis.com (storage.googleapis.com)... 172.217.13.176, 172.217.13.208, 172.217.13.112, ...\n",
      "Connecting to storage.googleapis.com (storage.googleapis.com)|172.217.13.176|:443... connected.\n",
      "HTTP request sent, awaiting response... 200 OK\n",
      "Length: 68606236 (65M) [application/zip]\n",
      "Saving to: ‘cats_and_dogs_filtered.zip’\n",
      "\n",
      "cats_and_dogs_filte 100%[===================>]  65.43M  15.3MB/s    in 4.3s    \n",
      "\n",
      "2023-04-08 18:50:19 (15.2 MB/s) - ‘cats_and_dogs_filtered.zip’ saved [68606236/68606236]\n",
      "\n"
     ]
    }
   ],
   "source": [
    "# Download the dataset\n",
    "!wget https://storage.googleapis.com/tensorflow-1-public/course2/cats_and_dogs_filtered.zip"
   ]
  },
  {
   "cell_type": "code",
   "execution_count": 2,
   "metadata": {
    "id": "_DyUfCTgdwa8"
   },
   "outputs": [],
   "source": [
    "import os\n",
    "import zipfile\n",
    "\n",
    "# Extract the archive\n",
    "zip_ref = zipfile.ZipFile(\"./cats_and_dogs_filtered.zip\", 'r')\n",
    "zip_ref.extractall(\"tmp/\")\n",
    "zip_ref.close()\n",
    "\n",
    "# Assign training and validation set directories\n",
    "base_dir = 'tmp/cats_and_dogs_filtered'\n",
    "train_dir = os.path.join(base_dir, 'train')\n",
    "validation_dir = os.path.join(base_dir, 'validation')\n",
    "\n",
    "# Directory with training cat pictures\n",
    "train_cats_dir = os.path.join(train_dir, 'cats')\n",
    "\n",
    "# Directory with training dog pictures\n",
    "train_dogs_dir = os.path.join(train_dir, 'dogs')\n",
    "\n",
    "# Directory with validation cat pictures\n",
    "validation_cats_dir = os.path.join(validation_dir, 'cats')\n",
    "\n",
    "# Directory with validation dog pictures\n",
    "validation_dogs_dir = os.path.join(validation_dir, 'dogs')"
   ]
  },
  {
   "cell_type": "markdown",
   "metadata": {
    "id": "Ub_BdOJIfZ_Q"
   },
   "source": [
    "You will place the model creation inside a function so you can easily initialize a new one when you use data augmentation later in this notebook."
   ]
  },
  {
   "cell_type": "code",
   "execution_count": 3,
   "metadata": {
    "id": "uWllK_Wad-Mx"
   },
   "outputs": [
    {
     "name": "stderr",
     "output_type": "stream",
     "text": [
      "2023-04-08 18:51:59.003970: I tensorflow/tsl/cuda/cudart_stub.cc:28] Could not find cuda drivers on your machine, GPU will not be used.\n",
      "2023-04-08 18:51:59.392353: I tensorflow/tsl/cuda/cudart_stub.cc:28] Could not find cuda drivers on your machine, GPU will not be used.\n",
      "2023-04-08 18:51:59.399649: I tensorflow/core/platform/cpu_feature_guard.cc:182] This TensorFlow binary is optimized to use available CPU instructions in performance-critical operations.\n",
      "To enable the following instructions: AVX2 FMA, in other operations, rebuild TensorFlow with the appropriate compiler flags.\n",
      "2023-04-08 18:52:02.293899: W tensorflow/compiler/tf2tensorrt/utils/py_utils.cc:38] TF-TRT Warning: Could not find TensorRT\n"
     ]
    }
   ],
   "source": [
    "import tensorflow as tf\n",
    "from tensorflow.keras.optimizers import RMSprop\n",
    "\n",
    "def create_model():\n",
    "  '''Creates a CNN with 4 convolutional layers'''\n",
    "  model = tf.keras.models.Sequential([\n",
    "      tf.keras.layers.Conv2D(32, (3,3), activation='relu', input_shape=(150, 150, 3)),\n",
    "      tf.keras.layers.MaxPooling2D(2, 2),\n",
    "      tf.keras.layers.Conv2D(64, (3,3), activation='relu'),\n",
    "      tf.keras.layers.MaxPooling2D(2,2),\n",
    "      tf.keras.layers.Conv2D(128, (3,3), activation='relu'),\n",
    "      tf.keras.layers.MaxPooling2D(2,2),\n",
    "      tf.keras.layers.Conv2D(128, (3,3), activation='relu'),\n",
    "      tf.keras.layers.MaxPooling2D(2,2),\n",
    "      tf.keras.layers.Flatten(),\n",
    "      tf.keras.layers.Dense(512, activation='relu'),\n",
    "      tf.keras.layers.Dense(1, activation='sigmoid')\n",
    "  ])\n",
    "\n",
    "  model.compile(loss='binary_crossentropy',\n",
    "                optimizer=RMSprop(learning_rate=1e-4),\n",
    "                metrics=['accuracy'])\n",
    "  \n",
    "  return model"
   ]
  },
  {
   "cell_type": "code",
   "execution_count": 4,
   "metadata": {
    "id": "MJPyDEzOqrKB"
   },
   "outputs": [
    {
     "name": "stdout",
     "output_type": "stream",
     "text": [
      "Found 2000 images belonging to 2 classes.\n",
      "Found 1000 images belonging to 2 classes.\n"
     ]
    }
   ],
   "source": [
    "from tensorflow.keras.preprocessing.image import ImageDataGenerator\n",
    "\n",
    "# All images will be rescaled by 1./255\n",
    "train_datagen = ImageDataGenerator(rescale=1./255)\n",
    "test_datagen = ImageDataGenerator(rescale=1./255)\n",
    "\n",
    "# Flow training images in batches of 20 using train_datagen generator\n",
    "train_generator = train_datagen.flow_from_directory(\n",
    "        train_dir,  # This is the source directory for training images\n",
    "        target_size=(150, 150),  # All images will be resized to 150x150\n",
    "        batch_size=20,\n",
    "        # Since we use binary_crossentropy loss, we need binary labels\n",
    "        class_mode='binary')\n",
    "\n",
    "# Flow validation images in batches of 20 using test_datagen generator\n",
    "validation_generator = test_datagen.flow_from_directory(\n",
    "        validation_dir,\n",
    "        target_size=(150, 150),\n",
    "        batch_size=20,\n",
    "        class_mode='binary')"
   ]
  },
  {
   "cell_type": "code",
   "execution_count": 5,
   "metadata": {
    "id": "hdqUoF44esR3"
   },
   "outputs": [
    {
     "name": "stderr",
     "output_type": "stream",
     "text": [
      "2023-04-08 18:52:28.400697: I tensorflow/compiler/xla/stream_executor/cuda/cuda_gpu_executor.cc:982] could not open file to read NUMA node: /sys/bus/pci/devices/0000:01:00.0/numa_node\n",
      "Your kernel may have been built without NUMA support.\n",
      "2023-04-08 18:52:28.401670: W tensorflow/core/common_runtime/gpu/gpu_device.cc:1956] Cannot dlopen some GPU libraries. Please make sure the missing libraries mentioned above are installed properly if you would like to use GPU. Follow the guide at https://www.tensorflow.org/install/gpu for how to download and setup the required libraries for your platform.\n",
      "Skipping registering GPU devices...\n"
     ]
    },
    {
     "name": "stdout",
     "output_type": "stream",
     "text": [
      "Epoch 1/20\n"
     ]
    },
    {
     "name": "stderr",
     "output_type": "stream",
     "text": [
      "2023-04-08 18:52:28.899264: I tensorflow/core/common_runtime/executor.cc:1197] [/device:CPU:0] (DEBUG INFO) Executor start aborting (this does not indicate an error and you can ignore this message): INVALID_ARGUMENT: You must feed a value for placeholder tensor 'Placeholder/_0' with dtype int32\n",
      "\t [[{{node Placeholder/_0}}]]\n",
      "2023-04-08 18:53:01.325543: I tensorflow/core/common_runtime/executor.cc:1197] [/device:CPU:0] (DEBUG INFO) Executor start aborting (this does not indicate an error and you can ignore this message): INVALID_ARGUMENT: You must feed a value for placeholder tensor 'Placeholder/_0' with dtype int32\n",
      "\t [[{{node Placeholder/_0}}]]\n"
     ]
    },
    {
     "name": "stdout",
     "output_type": "stream",
     "text": [
      "100/100 - 36s - loss: 0.6956 - accuracy: 0.5110 - val_loss: 0.6881 - val_accuracy: 0.4990 - 36s/epoch - 361ms/step\n",
      "Epoch 2/20\n",
      "100/100 - 43s - loss: 0.6818 - accuracy: 0.5700 - val_loss: 0.6710 - val_accuracy: 0.5460 - 43s/epoch - 430ms/step\n",
      "Epoch 3/20\n",
      "100/100 - 54s - loss: 0.6575 - accuracy: 0.6225 - val_loss: 0.6372 - val_accuracy: 0.6640 - 54s/epoch - 542ms/step\n",
      "Epoch 4/20\n",
      "100/100 - 44s - loss: 0.6195 - accuracy: 0.6570 - val_loss: 0.6112 - val_accuracy: 0.6850 - 44s/epoch - 443ms/step\n",
      "Epoch 5/20\n",
      "100/100 - 46s - loss: 0.5819 - accuracy: 0.6960 - val_loss: 0.6545 - val_accuracy: 0.6390 - 46s/epoch - 463ms/step\n",
      "Epoch 6/20\n",
      "100/100 - 49s - loss: 0.5495 - accuracy: 0.7125 - val_loss: 0.5955 - val_accuracy: 0.6770 - 49s/epoch - 492ms/step\n",
      "Epoch 7/20\n",
      "100/100 - 41s - loss: 0.5326 - accuracy: 0.7285 - val_loss: 0.5603 - val_accuracy: 0.7080 - 41s/epoch - 413ms/step\n",
      "Epoch 8/20\n",
      "100/100 - 40s - loss: 0.5067 - accuracy: 0.7460 - val_loss: 0.5724 - val_accuracy: 0.7160 - 40s/epoch - 403ms/step\n",
      "Epoch 9/20\n",
      "100/100 - 47s - loss: 0.4932 - accuracy: 0.7610 - val_loss: 0.5632 - val_accuracy: 0.7060 - 47s/epoch - 473ms/step\n",
      "Epoch 10/20\n",
      "100/100 - 41s - loss: 0.4657 - accuracy: 0.7775 - val_loss: 0.5499 - val_accuracy: 0.7240 - 41s/epoch - 410ms/step\n",
      "Epoch 11/20\n",
      "100/100 - 46s - loss: 0.4396 - accuracy: 0.8000 - val_loss: 0.5823 - val_accuracy: 0.7020 - 46s/epoch - 464ms/step\n",
      "Epoch 12/20\n",
      "100/100 - 41s - loss: 0.4085 - accuracy: 0.8130 - val_loss: 0.5562 - val_accuracy: 0.7240 - 41s/epoch - 413ms/step\n",
      "Epoch 13/20\n",
      "100/100 - 44s - loss: 0.3844 - accuracy: 0.8270 - val_loss: 0.5578 - val_accuracy: 0.7310 - 44s/epoch - 435ms/step\n",
      "Epoch 14/20\n",
      "100/100 - 44s - loss: 0.3564 - accuracy: 0.8400 - val_loss: 0.5807 - val_accuracy: 0.7230 - 44s/epoch - 439ms/step\n",
      "Epoch 15/20\n",
      "100/100 - 44s - loss: 0.3425 - accuracy: 0.8575 - val_loss: 0.5595 - val_accuracy: 0.7260 - 44s/epoch - 435ms/step\n",
      "Epoch 16/20\n",
      "100/100 - 48s - loss: 0.3073 - accuracy: 0.8780 - val_loss: 0.5830 - val_accuracy: 0.7330 - 48s/epoch - 479ms/step\n",
      "Epoch 17/20\n",
      "100/100 - 45s - loss: 0.2898 - accuracy: 0.8845 - val_loss: 0.7352 - val_accuracy: 0.7080 - 45s/epoch - 449ms/step\n",
      "Epoch 18/20\n",
      "100/100 - 47s - loss: 0.2723 - accuracy: 0.8880 - val_loss: 0.5791 - val_accuracy: 0.7250 - 47s/epoch - 473ms/step\n",
      "Epoch 19/20\n",
      "100/100 - 45s - loss: 0.2417 - accuracy: 0.9065 - val_loss: 0.5900 - val_accuracy: 0.7360 - 45s/epoch - 447ms/step\n",
      "Epoch 20/20\n",
      "100/100 - 43s - loss: 0.2140 - accuracy: 0.9200 - val_loss: 0.6102 - val_accuracy: 0.7390 - 43s/epoch - 429ms/step\n"
     ]
    }
   ],
   "source": [
    "# Constant for epochs\n",
    "EPOCHS = 20\n",
    "\n",
    "# Create a new model\n",
    "model = create_model()\n",
    "\n",
    "# Train the model\n",
    "history = model.fit(\n",
    "      train_generator,\n",
    "      steps_per_epoch=100,  # 2000 images = batch_size * steps\n",
    "      epochs=EPOCHS,\n",
    "      validation_data=validation_generator,\n",
    "      validation_steps=50,  # 1000 images = batch_size * steps\n",
    "      verbose=2)"
   ]
  },
  {
   "cell_type": "markdown",
   "metadata": {
    "id": "Y-G0Am4cguNt"
   },
   "source": [
    "You will then visualize the loss and accuracy with respect to the training and validation set. You will again use a convenience function so it can be reused later. This function accepts a [History](https://www.tensorflow.org/api_docs/python/tf/keras/callbacks/History) object which contains the results of the `fit()` method you ran above."
   ]
  },
  {
   "cell_type": "code",
   "execution_count": 12,
   "metadata": {
    "id": "GZWPcmKWO303"
   },
   "outputs": [],
   "source": [
    "import matplotlib.pyplot as plt\n",
    "\n",
    "def plot_loss_acc(history):\n",
    "    '''\n",
    "    Plots the training and validation loss and accuracy from a history object\n",
    "    '''\n",
    "    acc = history.history['accuracy']\n",
    "    val_acc = history.history['val_accuracy']\n",
    "    loss = history.history['loss']\n",
    "    val_loss = history.history['val_loss']\n",
    "\n",
    "    epochs = range(len(acc))\n",
    "\n",
    "    plt.plot(epochs, acc, 'bo', label='Training accuracy',)\n",
    "    plt.plot(epochs, val_acc, 'r', label='Validation accuracy')\n",
    "    plt.title('Training and validation accuracy')\n",
    "    plt.legend()\n",
    "\n",
    "    plt.figure()\n",
    "\n",
    "    plt.plot(epochs, loss, 'bo', label='Training Loss')\n",
    "    plt.plot(epochs, val_loss, 'r', label='Validation Loss')\n",
    "    plt.title('Training and validation loss')\n",
    "    plt.legend()\n",
    "\n",
    "    plt.show()"
   ]
  },
  {
   "cell_type": "code",
   "execution_count": 13,
   "metadata": {
    "id": "Vojz4NYXiT_f",
    "scrolled": true
   },
   "outputs": [
    {
     "data": {
      "image/png": "[encoded data removed]",
      "text/plain": [
       "<Figure size 640x480 with 1 Axes>"
      ]
     },
     "metadata": {},
     "output_type": "display_data"
    },
    {
     "data": {
      "image/png": "[encoded data removed]",
      "text/plain": [
       "<Figure size 640x480 with 1 Axes>"
      ]
     },
     "metadata": {},
     "output_type": "display_data"
    }
   ],
   "source": [
    "# Plot training results\n",
    "plot_loss_acc(history)"
   ]
  },
  {
   "cell_type": "markdown",
   "metadata": {
    "id": "zb81GvNov-Tg"
   },
   "source": [
    "From the results above, you'll see the training accuracy is more than 90%, and the validation accuracy is in the 70%-80% range. This is a great example of _overfitting_ -- which in short means that it can do very well with images it has seen before, but not so well with images it hasn't.\n"
   ]
  },
  {
   "cell_type": "markdown",
   "metadata": {
    "id": "5KBz-vFbjLZX"
   },
   "source": [
    "## Data augmentation\n",
    "\n",
    "One simple method to avoid overfitting is to augment the images a bit. If you think about it, most pictures of a cat are very similar -- the ears are at the top, then the eyes, then the mouth etc. Things like the distance between the eyes and ears will always be quite similar too. \n",
    "\n",
    "What if you tweak with the images a bit -- rotate the image, squash it, etc.  That's what image augementation is all about. And there's an API that makes it easy!\n",
    "\n",
    "Take a look at the [ImageDataGenerator](https://www.tensorflow.org/api_docs/python/tf/keras/preprocessing/image/ImageDataGenerator) which you have been using to rescale the image. There are other properties on it that you can use to augment the image. \n",
    "\n",
    "```\n",
    "# Updated to do image augmentation\n",
    "train_datagen = ImageDataGenerator(\n",
    "      rotation_range=40,\n",
    "      width_shift_range=0.2,\n",
    "      height_shift_range=0.2,\n",
    "      shear_range=0.2,\n",
    "      zoom_range=0.2,\n",
    "      horizontal_flip=True,\n",
    "      fill_mode='nearest')\n",
    "```\n",
    "\n",
    "These are just a few of the options available. Let's quickly go over it:\n",
    "\n",
    "* `rotation_range` is a value in degrees (0–180) within which to randomly rotate pictures.\n",
    "* `width_shift` and `height_shift` are ranges (as a fraction of total width or height) within which to randomly translate pictures vertically or horizontally.\n",
    "* `shear_range` is for randomly applying shearing transformations.\n",
    "* `zoom_range` is for randomly zooming inside pictures.\n",
    "* `horizontal_flip` is for randomly flipping half of the images horizontally. This is relevant when there are no assumptions of horizontal assymmetry (e.g. real-world pictures).\n",
    "* `fill_mode` is the strategy used for filling in newly created pixels, which can appear after a rotation or a width/height shift.\n",
    "\n",
    "\n",
    "Run the next cells to see the impact on the results. The code is similar to the baseline but the definition of `train_datagen` has been updated to use the parameters described above.\n"
   ]
  },
  {
   "cell_type": "code",
   "execution_count": null,
   "metadata": {
    "id": "UK7_Fflgv8YC"
   },
   "outputs": [
    {
     "name": "stdout",
     "output_type": "stream",
     "text": [
      "Found 2000 images belonging to 2 classes.\n",
      "Found 1000 images belonging to 2 classes.\n",
      "Epoch 1/20\n"
     ]
    },
    {
     "name": "stderr",
     "output_type": "stream",
     "text": [
      "2023-04-08 19:13:13.925506: I tensorflow/core/common_runtime/executor.cc:1197] [/device:CPU:0] (DEBUG INFO) Executor start aborting (this does not indicate an error and you can ignore this message): INVALID_ARGUMENT: You must feed a value for placeholder tensor 'Placeholder/_0' with dtype int32\n",
      "\t [[{{node Placeholder/_0}}]]\n",
      "2023-04-08 19:13:51.737379: I tensorflow/core/common_runtime/executor.cc:1197] [/device:CPU:0] (DEBUG INFO) Executor start aborting (this does not indicate an error and you can ignore this message): INVALID_ARGUMENT: You must feed a value for placeholder tensor 'Placeholder/_0' with dtype int32\n",
      "\t [[{{node Placeholder/_0}}]]\n"
     ]
    },
    {
     "name": "stdout",
     "output_type": "stream",
     "text": [
      "100/100 - 42s - loss: 0.6965 - accuracy: 0.5155 - val_loss: 0.6871 - val_accuracy: 0.5620 - 42s/epoch - 425ms/step\n",
      "Epoch 2/20\n",
      "100/100 - 47s - loss: 0.6893 - accuracy: 0.5400 - val_loss: 0.6794 - val_accuracy: 0.5280 - 47s/epoch - 472ms/step\n",
      "Epoch 3/20\n",
      "100/100 - 46s - loss: 0.6784 - accuracy: 0.5695 - val_loss: 0.6737 - val_accuracy: 0.5710 - 46s/epoch - 456ms/step\n",
      "Epoch 4/20\n",
      "100/100 - 46s - loss: 0.6707 - accuracy: 0.5765 - val_loss: 0.6484 - val_accuracy: 0.6170 - 46s/epoch - 460ms/step\n",
      "Epoch 5/20\n",
      "100/100 - 48s - loss: 0.6636 - accuracy: 0.5840 - val_loss: 0.6426 - val_accuracy: 0.6130 - 48s/epoch - 483ms/step\n",
      "Epoch 6/20\n",
      "100/100 - 43s - loss: 0.6466 - accuracy: 0.6190 - val_loss: 0.6096 - val_accuracy: 0.6590 - 43s/epoch - 435ms/step\n",
      "Epoch 7/20\n",
      "100/100 - 47s - loss: 0.6409 - accuracy: 0.6235 - val_loss: 0.5943 - val_accuracy: 0.6910 - 47s/epoch - 470ms/step\n",
      "Epoch 8/20\n",
      "100/100 - 45s - loss: 0.6224 - accuracy: 0.6425 - val_loss: 0.5826 - val_accuracy: 0.6970 - 45s/epoch - 455ms/step\n",
      "Epoch 9/20\n",
      "100/100 - 45s - loss: 0.6157 - accuracy: 0.6525 - val_loss: 0.5755 - val_accuracy: 0.6950 - 45s/epoch - 453ms/step\n",
      "Epoch 10/20\n",
      "100/100 - 48s - loss: 0.6101 - accuracy: 0.6595 - val_loss: 0.5563 - val_accuracy: 0.6990 - 48s/epoch - 477ms/step\n",
      "Epoch 11/20\n",
      "100/100 - 47s - loss: 0.6000 - accuracy: 0.6835 - val_loss: 0.5636 - val_accuracy: 0.6860 - 47s/epoch - 471ms/step\n",
      "Epoch 12/20\n",
      "100/100 - 43s - loss: 0.5902 - accuracy: 0.6820 - val_loss: 0.5460 - val_accuracy: 0.7270 - 43s/epoch - 435ms/step\n",
      "Epoch 13/20\n",
      "100/100 - 44s - loss: 0.5830 - accuracy: 0.6925 - val_loss: 0.5641 - val_accuracy: 0.7100 - 44s/epoch - 442ms/step\n",
      "Epoch 14/20\n",
      "100/100 - 49s - loss: 0.5837 - accuracy: 0.6945 - val_loss: 0.5497 - val_accuracy: 0.7010 - 49s/epoch - 489ms/step\n",
      "Epoch 15/20\n",
      "100/100 - 56s - loss: 0.5786 - accuracy: 0.6895 - val_loss: 0.5355 - val_accuracy: 0.7220 - 56s/epoch - 560ms/step\n",
      "Epoch 16/20\n",
      "100/100 - 43s - loss: 0.5708 - accuracy: 0.6975 - val_loss: 0.5340 - val_accuracy: 0.7320 - 43s/epoch - 425ms/step\n",
      "Epoch 17/20\n",
      "100/100 - 51s - loss: 0.5737 - accuracy: 0.6930 - val_loss: 0.5438 - val_accuracy: 0.7110 - 51s/epoch - 509ms/step\n",
      "Epoch 18/20\n",
      "100/100 - 45s - loss: 0.5680 - accuracy: 0.6975 - val_loss: 0.5704 - val_accuracy: 0.6820 - 45s/epoch - 449ms/step\n",
      "Epoch 19/20\n",
      "100/100 - 43s - loss: 0.5561 - accuracy: 0.7180 - val_loss: 0.5533 - val_accuracy: 0.7070 - 43s/epoch - 430ms/step\n",
      "Epoch 20/20\n"
     ]
    }
   ],
   "source": [
    "# Create new model\n",
    "model_for_aug = create_model()\n",
    "\n",
    "# This code has changed. Now instead of the ImageGenerator just rescaling\n",
    "# the image, we also rotate and do other operations\n",
    "train_datagen = ImageDataGenerator(\n",
    "      rescale=1./255,\n",
    "      rotation_range=40,\n",
    "      width_shift_range=0.2,\n",
    "      height_shift_range=0.2,\n",
    "      shear_range=0.2,\n",
    "      zoom_range=0.2,\n",
    "      horizontal_flip=True,\n",
    "      fill_mode='nearest')\n",
    "\n",
    "test_datagen = ImageDataGenerator(rescale=1./255)\n",
    "\n",
    "# Flow training images in batches of 20 using train_datagen generator\n",
    "train_generator = train_datagen.flow_from_directory(\n",
    "        train_dir,  # This is the source directory for training images\n",
    "        target_size=(150, 150),  # All images will be resized to 150x150\n",
    "        batch_size=20,\n",
    "        # Since we use binary_crossentropy loss, we need binary labels\n",
    "        class_mode='binary')\n",
    "\n",
    "# Flow validation images in batches of 20 using test_datagen generator\n",
    "validation_generator = test_datagen.flow_from_directory(\n",
    "        validation_dir,\n",
    "        target_size=(150, 150),\n",
    "        batch_size=20,\n",
    "        class_mode='binary')\n",
    "\n",
    "# Train the new model\n",
    "history_with_aug = model_for_aug.fit(\n",
    "      train_generator,\n",
    "      steps_per_epoch=100,  # 2000 images = batch_size * steps\n",
    "      epochs=EPOCHS,\n",
    "      validation_data=validation_generator,\n",
    "      validation_steps=50,  # 1000 images = batch_size * steps\n",
    "      verbose=2)"
   ]
  },
  {
   "cell_type": "code",
   "execution_count": null,
   "metadata": {
    "id": "bnyRnwopT5aW"
   },
   "outputs": [],
   "source": [
    "# Plot the results of training with data augmentation\n",
    "plot_loss_acc(history_with_aug)"
   ]
  },
  {
   "cell_type": "markdown",
   "metadata": {
    "id": "1D1hd5fqmJUx"
   },
   "source": [
    "As you can see, the training accuracy has gone down compared to the baseline. This is expected because (as a result of data augmentation) there are more variety in the images so the model will need more runs to learn from them. The good thing is the validation accuracy is no longer stalling and is more in line with the training results. This means that the model is now performing better on unseen data. \n",
    "\n",
    "\n"
   ]
  },
  {
   "cell_type": "markdown",
   "metadata": {
    "id": "z4B9b6GPnKg1"
   },
   "source": [
    "## Wrap Up\n",
    "\n",
    "This exercise showed a simple trick to avoid overfitting. You can improve your baseline results by simply tweaking the same images you have already. The `ImageDataGenerator` class has built-in parameters to do just that. Try to modify the values some more in the `train_datagen` and see what results you get.\n",
    "\n",
    "Take note that this will not work for all cases. In the next lesson, Laurence will show a scenario where data augmentation will not help improve your validation accuracy."
   ]
  }
 ],
 "metadata": {
  "accelerator": "GPU",
  "colab": {
   "collapsed_sections": [],
   "name": "C2_W2_Lab_1_cats_v_dogs_augmentation.ipynb",
   "private_outputs": true,
   "provenance": [
    {
     "file_id": "https://github.com/https-deeplearning-ai/tensorflow-1-public/blob/adding_C2/C2/W2/ungraded_labs/C2_W2_Lab_1_cats_v_dogs_augmentation.ipynb",
     "timestamp": 1639637705486
    }
   ]
  },
  "kernelspec": {
   "display_name": "Python 3 (ipykernel)",
   "language": "python",
   "name": "python3"
  },
  "language_info": {
   "codemirror_mode": {
    "name": "ipython",
    "version": 3
   },
   "file_extension": ".py",
   "mimetype": "text/x-python",
   "name": "python",
   "nbconvert_exporter": "python",
   "pygments_lexer": "ipython3",
   "version": "3.10.6"
  },
  "toc": {
   "base_numbering": 1,
   "nav_menu": {},
   "number_sections": true,
   "sideBar": true,
   "skip_h1_title": false,
   "title_cell": "Table of Contents",
   "title_sidebar": "Contents",
   "toc_cell": false,
   "toc_position": {},
   "toc_section_display": true,
   "toc_window_display": false
  }
 },
 "nbformat": 4,
 "nbformat_minor": 1
}
